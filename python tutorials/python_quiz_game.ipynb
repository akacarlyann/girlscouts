{
  "nbformat": 4,
  "nbformat_minor": 0,
  "metadata": {
    "colab": {
      "name": "python_quiz_game.ipynb",
      "version": "0.3.2",
      "provenance": [],
      "collapsed_sections": []
    },
    "kernelspec": {
      "name": "python3",
      "display_name": "Python 3"
    }
  },
  "cells": [
    {
      "cell_type": "markdown",
      "metadata": {
        "id": "eNV_vlbuMaPp",
        "colab_type": "text"
      },
      "source": [
        "# Welcome to the Python Quiz Game!\n"
      ]
    },
    {
      "cell_type": "markdown",
      "metadata": {
        "id": "pDiDmajRGXOH",
        "colab_type": "text"
      },
      "source": [
        "<img src=\"https://www.girlscoutshcc.org/content/girlscoutshcc/en/about-girl-scouts/STEMCenter/_jcr_content/content/middle/par/image_1061672623.img.png/1505835864485.png\" alt=\"STEM Center + Makerspace\" width=\"500px\"/>\n",
        "<img src=\"https://upload.wikimedia.org/wikipedia/commons/f/f8/Python_logo_and_wordmark.svg\" alt=\"Python\" width=\"500px\"/>\n",
        "\n",
        "- Introductions\n",
        "- STEM Center Rules"
      ]
    },
    {
      "cell_type": "markdown",
      "metadata": {
        "id": "G8BFdTvwG9X8",
        "colab_type": "text"
      },
      "source": [
        "# Programming in Python  \n",
        "\n",
        "https://www.python.org/\n"
      ]
    },
    {
      "cell_type": "markdown",
      "metadata": {
        "id": "Mxurpebaisb3",
        "colab_type": "text"
      },
      "source": [
        "## What is programming?\n",
        "  - giving a sequence of instructions to a computer\n",
        "  - computers are \"dumb\" *BUT* computers are powerful!\n",
        "  - computer literacy is the future!\n",
        "  \n",
        "## What is Python?\n",
        "  - open-source, high-level, object-oriented programming language\n",
        "  - fastest-growing major programming language\n",
        "  - millions of users world-wide\n",
        "  - reads like English (left-to-right and top-to-bottom)\n",
        "  - most of the code is written by __volunteer__ contributors (cool!)\n",
        "  \n",
        "## What do we use Python for?\n",
        "  - math, modeling, games, websites, graphs, video-editing, mapping, making art and more!\n",
        "  \n",
        "## Fun facts\n",
        " - Did you know?  The original computer bug was actually a bug!  The moth that caused the computer to malfunction can actually be seen at the Computer Science History Museum in Mountain View, CA (http://www.computerhistory.org/)\n",
        " - The field of computer science was pioneered by women!  To learn more about the original human \"computers\" at NASA, check out the book or movie adaptation \"Hidden Figures.\""
      ]
    },
    {
      "cell_type": "markdown",
      "metadata": {
        "id": "WrBXF9m_LUAT",
        "colab_type": "text"
      },
      "source": [
        "## Some Vocabulary\n",
        "One of the funny things about programming is that perfectly normal words in the English language take on new meanings!  So let's go over what a few of these words mean in the context of computer science and software engineering. "
      ]
    },
    {
      "cell_type": "markdown",
      "metadata": {
        "id": "vyQmoZpmPqpR",
        "colab_type": "text"
      },
      "source": [
        "#### Program\n",
        " - a sequence of instructions that a computer can execute\n",
        "\n",
        "#### Function\n",
        " - a set sequence of steps, part of larger computer __program__\n",
        " \n",
        "#### Syntax\n",
        " - the rules or \"grammar\" for writing in a particular programming language\n",
        "\n",
        "#### Library\n",
        " - a collection of code added to programs that provides frequently used functionality\n",
        "\n",
        "#### Variable\n",
        " - Stores a value by giving it a name.\n",
        " - A variable is assigned a value using the = (equals) operator.\n",
        " - A variable can hold almost any type of value such as lists, dictionaries, functions.\n",
        " - The Python style rules say we should name __variables__ with lower-case names.\n",
        " - Variable names can contain letters, numbers, and underscore (*_*) characters.  \n",
        " - They can't start with a number.\n",
        " - Other than that, you can name a variable almost anything you want!\n",
        " - There are certain special \"reserved\" words, like names of functions that are built-in to Python, so you don't want to give your variable a name that will override existing named objects in the program.\n",
        " - Here's an example of some great variable names and definitions:\n",
        " ```\n",
        "     unicorn = 42\n",
        "     my_cool_variable_name = 17\n",
        "     girl_scouts = 'Awesome!'\n",
        "```\n",
        "\n",
        "#### Type\n",
        " - the kind or category of a __value__\n",
        " - a few common __type__s in Python:\n",
        "   - string (anything that is surrounded by single quotes '' or double quotes \"\")\n",
        "   - integer (a whole number, positive or negative)\n",
        "   - float (a way to store decimal numbers)\n",
        "   - boolean (True/False)\n",
        "   - list (a list of items separated by commas, inside square brackets [])\n",
        "   - dictionary (a way to store items with keys to look them up)\n",
        "   - and more!\n",
        "\n",
        "#### Comments\n",
        " - Python has this cool feature where we can write __comment__s right next to the code.  __Comment__s are blocks of text that are not executed when you run the __program__.  This is super helpful for when you want to leave instructions for other people using your program.  It's also really helpful if you want to write notes on where you got ideas for certain parts of your code, or describe basic examples for how your code can be used.\n",
        " - Writing comments is one of the most important parts of coding!\n",
        " - Writing comments can be like citing your sources.\n",
        " - Writing comments can be like including a recipe.  \n",
        " \n",
        "Check out https://wiki.python.org/moin/PythonGlossary or https://docs.python.org/3/glossary.html for more Python-specific vocabulary."
      ]
    },
    {
      "cell_type": "markdown",
      "metadata": {
        "id": "sw4Onh11MUK_",
        "colab_type": "text"
      },
      "source": [
        "## Quick Review!\n"
      ]
    },
    {
      "cell_type": "markdown",
      "metadata": {
        "id": "rQ7lq62wT5Ja",
        "colab_type": "text"
      },
      "source": [
        "### Variable names can contain numbers, underscore characters, and \\_ \\_ \\_ \\_ \\_ \\_?\n",
        "\n",
        "### What do we call a collection of instructions that a computer can execute?\n",
        "\n",
        "### What *type* is this variable?\n",
        "      girl_scout_coding_is_fun = True\n",
        "\n",
        "      life_the_universe_and_everything = 42.0\n",
        "\n",
        "      observe_synonyms = ['watch', 'look at', 'eye', 'contemplate', 'view', \n",
        "                          'witness', 'survey', 'regard', 'keep an eye on', \n",
        "                          'scrutinize', 'surveil', 'monitor']"
      ]
    },
    {
      "cell_type": "markdown",
      "metadata": {
        "id": "KtygNNRyHs5l",
        "colab_type": "text"
      },
      "source": [
        "# Hello World\n",
        "\n",
        "This is probably the most famous computer program ever written!"
      ]
    },
    {
      "cell_type": "code",
      "metadata": {
        "id": "bZdmGybJwfAQ",
        "colab_type": "code",
        "outputId": "9b8388eb-38d4-48d0-f279-1534b398e0f3",
        "colab": {
          "base_uri": "https://localhost:8080/",
          "height": 34
        }
      },
      "source": [
        "print('hello world')"
      ],
      "execution_count": 1,
      "outputs": [
        {
          "output_type": "stream",
          "text": [
            "hello world\n"
          ],
          "name": "stdout"
        }
      ]
    },
    {
      "cell_type": "code",
      "metadata": {
        "id": "Wzjr_Xjw5nlY",
        "colab_type": "code",
        "outputId": "56dd1e2b-e402-4fed-c7cf-210fcce4af85",
        "colab": {
          "base_uri": "https://localhost:8080/",
          "height": 52
        }
      },
      "source": [
        "print('hello\\nworld')"
      ],
      "execution_count": 2,
      "outputs": [
        {
          "output_type": "stream",
          "text": [
            "hello\n",
            "world\n"
          ],
          "name": "stdout"
        }
      ]
    },
    {
      "cell_type": "markdown",
      "metadata": {
        "id": "qGOOdzMCVhUQ",
        "colab_type": "text"
      },
      "source": [
        "## Cool! What just happened here?"
      ]
    },
    {
      "cell_type": "markdown",
      "metadata": {
        "id": "JMVx33BPI7kK",
        "colab_type": "text"
      },
      "source": [
        "We ran a one-line __program__ that printed the __string__ \"hello world\" to our screen!  \n",
        "\n",
        "We used the built-in __*print* function__ from Python's Standard Library.  \n",
        "\n",
        "The Standard Library contains a bunch of useful __functions__ that we can access any time we run a Python program!  There are millions of people who use Python, and some of them write __open-source libraries__ that they share with other Python users that that expand on the tools provided in Python's standard libraries."
      ]
    },
    {
      "cell_type": "markdown",
      "metadata": {
        "id": "65LYuMEiabtq",
        "colab_type": "text"
      },
      "source": [
        ""
      ]
    },
    {
      "cell_type": "markdown",
      "metadata": {
        "id": "DNSpk6tmJe0u",
        "colab_type": "text"
      },
      "source": [
        "# Python Quiz Game"
      ]
    },
    {
      "cell_type": "code",
      "metadata": {
        "id": "7e_k-FPPmUZR",
        "colab_type": "code",
        "colab": {}
      },
      "source": [
        "import os\n",
        "import random\n",
        "\n",
        "\n",
        "# the bank of questions is stored as a Python dictionary so that answers can be \n",
        "# looked up using the questions as keys, For Example:\n",
        "# answer = QUESTION_BANK[question]\n",
        "QUESTION_BANK = {\n",
        "    'What is the 4th planet from our sun?': 'Mars',\n",
        "    'Which planet has the tallest volcano in the solar system?': 'Mars',\n",
        "    'Which planet is commonly called \"the Red Planet\"?': 'Mars',\n",
        "    'Which planet was named after the Greek god `Ares`?': 'Mars',\n",
        "    'Which planet has two moons called `Phobos` and `Deimos`?': 'Mars'\n",
        "}\n",
        "\n",
        "\n",
        "def introduce_game():\n",
        "    \"\"\"\n",
        "    The message that prints when the quiz game script runs\n",
        "    \"\"\"\n",
        "    message = '\\U0001F30C\\nWelcome to the Girl Scout Quiz Game!\\nTry to answer all of the questions!'\n",
        "    print('\\n')\n",
        "    print('-'*40)\n",
        "    print(message)\n",
        "\n",
        "\n",
        "def ask_question(question, points):\n",
        "    \"\"\"\n",
        "    prompt user for the correct answer to a question from the question bank\n",
        "    \"\"\"\n",
        "\n",
        "    # instructions for how to answer the question\n",
        "    print('\\nType your answer and hit the \"enter\" key.')\n",
        "    \n",
        "    # ask the question\n",
        "    print('QUESTION: {}'.format(question))\n",
        "    print('ANSWER: ')\n",
        "    \n",
        "    # the user's typed input is assigned to the 'response' variable\n",
        "    response = input()\n",
        "\n",
        "    # check if the response is correct\n",
        "    if response.lower() == QUESTION_BANK[question].lower():\n",
        "        \n",
        "        # print a random congrats message\n",
        "        print(get_congratulations())\n",
        "        \n",
        "        # add 1 to the total game score\n",
        "        points += 1\n",
        "\n",
        "    # if the answer was incorrect, prompt for another answer\n",
        "    else:\n",
        "        # need to decide - how many tries for a question does the player get?\n",
        "        print('Try Again!')\n",
        "        response = input()\n",
        "\n",
        "    # return the new total game score\n",
        "    return points\n",
        "\n",
        "\n",
        "def validate_answer(question, answer):\n",
        "    \"\"\"\n",
        "    check if answer matches the correct answer from the bank, even if \n",
        "    capitalization is different.\n",
        "    \"\"\"\n",
        "    if answer.lower() == QUESTION_BANK[question].lower():\n",
        "        return True\n",
        "    else:\n",
        "        return False\n",
        "\n",
        "\n",
        "def report_score(points, game_mode):\n",
        "    \"\"\"\n",
        "    print out the score for the game and ask the player if they want to\n",
        "    play again.\n",
        "    \"\"\"\n",
        "\n",
        "    # clear the console\n",
        "    os.system('clear')\n",
        "    \n",
        "    # fancy console output\n",
        "    print('*'*40)\n",
        "\n",
        "    # print the total game score\n",
        "    print('Your score is {} points!  Do you want to play again? (y/n)\\n'.format(points))\n",
        "    \n",
        "    # prompt user to decide if they want to play again\n",
        "    play_again = input()\n",
        "\n",
        "    # play again if the answer is 'y' or 'Y'\n",
        "    if play_again.lower() == 'y':\n",
        "        points = 0\n",
        "        \n",
        "        # run the game again (either regular or random mode)\n",
        "        if game_mode == 'normal':\n",
        "            run_game()\n",
        "\n",
        "        elif game_mode == 'random':\n",
        "            run_game_randomized()\n",
        "\n",
        "    # for all other answers, exit the game and say goodbye\n",
        "    else:\n",
        "        print('\\nThanks for playing!  Goodbye.')\n",
        "\n",
        "\n",
        "def run_game():\n",
        "    \"\"\"\n",
        "    run a standard quiz game in the order of the questions listed in\n",
        "    the question bank variable\n",
        "    \"\"\"\n",
        "\n",
        "    # starting points total\n",
        "    points = 0\n",
        "\n",
        "    # starting message for the game\n",
        "    introduce_game()\n",
        "\n",
        "    # loop through the question bank and ask each question\n",
        "    for question in QUESTION_BANK.keys():\n",
        "\n",
        "        # the total points changes after each question\n",
        "        points = ask_question(question, points)\n",
        "\n",
        "    # end the game by reporting the point total\n",
        "    report_score(points, game_mode='normal')\n",
        "\n",
        "\n",
        "def run_game_randomized():\n",
        "    \"\"\"\n",
        "    run a standard quiz game with a randomized question order for the \n",
        "    questions listed in the question bank variable\n",
        "    \"\"\"\n",
        "\n",
        "    # starting points total\n",
        "    points = 0\n",
        "\n",
        "    # starting message for the game\n",
        "    introduce_game()\n",
        "\n",
        "    # define a list of questions so that we can remove a question after\n",
        "    # it has already been asked\n",
        "    question_list = list(QUESTION_BANK.keys())\n",
        "\n",
        "    # if there are still questions in the question list, ask a question\n",
        "    while len(question_list) > 0:\n",
        "\n",
        "        # get a random index based on the current length of the question list \n",
        "        question_index = random.randint(0, len(question_list) - 1)\n",
        "        \n",
        "        # access the question from the current list\n",
        "        question = question_list[question_index]\n",
        "        \n",
        "        # the total points changes after each question\n",
        "        points = ask_question(question, points)\n",
        "\n",
        "        # remove that question from the question list\n",
        "        question_list.pop(question_index)\n",
        "\n",
        "    # end the game by reporting the point total\n",
        "    report_score(points, game_mode='random')\n",
        "\n",
        "\n",
        "def get_congratulations():\n",
        "    \"\"\"\n",
        "    get a randomized message for when the player gets a question right\n",
        "    \"\"\"\n",
        "    congrats_messages = [\n",
        "        'Correct!',\n",
        "        'Great Job!',\n",
        "        'Nice Work!',\n",
        "        'Tres Bien!',\n",
        "        '¡Muy Bién!',\n",
        "        '축하해',\n",
        "        'Correct!',\n",
        "        \"That's Right!\",\n",
        "        '好极了',\n",
        "        'Kazi nzuri',\n",
        "    ]\n",
        "    message_index = random.randint(0, len(congrats_messages) - 1)\n",
        "    return congrats_messages[message_index]\n",
        "\n",
        "\n",
        "\n",
        "    \n"
      ],
      "execution_count": 0,
      "outputs": []
    },
    {
      "cell_type": "code",
      "metadata": {
        "id": "EC6MPhjf_Htt",
        "colab_type": "code",
        "outputId": "7b0cfd54-4c78-4308-aeb7-8c6716ff3ba6",
        "colab": {
          "base_uri": "https://localhost:8080/",
          "height": 763
        }
      },
      "source": [
        "run_game()"
      ],
      "execution_count": 5,
      "outputs": [
        {
          "output_type": "stream",
          "text": [
            "\n",
            "\n",
            "----------------------------------------\n",
            "🌌\n",
            "Welcome to the Girl Scout Quiz Game!\n",
            "Try to answer all of the questions!\n",
            "\n",
            "Type your answer and hit the \"enter\" key.\n",
            "QUESTION: What is the 4th planet from our sun?\n",
            "ANSWER: \n",
            "Mars\n",
            "That's Right!\n",
            "\n",
            "Type your answer and hit the \"enter\" key.\n",
            "QUESTION: Which planet has the tallest volcano in the solar system?\n",
            "ANSWER: \n",
            "Mars\n",
            "Correct!\n",
            "\n",
            "Type your answer and hit the \"enter\" key.\n",
            "QUESTION: Which planet is commonly called \"the Red Planet\"?\n",
            "ANSWER: \n",
            "Mars\n",
            "Correct!\n",
            "\n",
            "Type your answer and hit the \"enter\" key.\n",
            "QUESTION: Which planet was named after the Greek god `Ares`?\n",
            "ANSWER: \n",
            "Mars\n",
            "Kazi nzuri\n",
            "\n",
            "Type your answer and hit the \"enter\" key.\n",
            "QUESTION: Which planet has two moons called `Phobos` and `Deimos`?\n",
            "ANSWER: \n",
            "Mars\n",
            "Correct!\n",
            "****************************************\n",
            "Your score is 5 points!  Do you want to play again? (y/n)\n",
            "\n",
            "n\n",
            "\n",
            "Thanks for playing!  Goodbye.\n"
          ],
          "name": "stdout"
        }
      ]
    },
    {
      "cell_type": "code",
      "metadata": {
        "id": "TbGTPYkkBY7w",
        "colab_type": "code",
        "outputId": "2c5c03e8-9f23-471c-bae5-21abade3675b",
        "colab": {
          "base_uri": "https://localhost:8080/",
          "height": 34
        }
      },
      "source": [
        "x = input()\n"
      ],
      "execution_count": 6,
      "outputs": [
        {
          "output_type": "stream",
          "text": [
            "aloha!\n"
          ],
          "name": "stdout"
        }
      ]
    },
    {
      "cell_type": "code",
      "metadata": {
        "id": "WwCf9YK0Bis2",
        "colab_type": "code",
        "outputId": "be5ac33e-ce2b-48ea-b358-2753d5001f72",
        "colab": {
          "base_uri": "https://localhost:8080/",
          "height": 34
        }
      },
      "source": [
        "print(x)"
      ],
      "execution_count": 7,
      "outputs": [
        {
          "output_type": "stream",
          "text": [
            "aloha!\n"
          ],
          "name": "stdout"
        }
      ]
    },
    {
      "cell_type": "markdown",
      "metadata": {
        "id": "DrxDvxJIWyZi",
        "colab_type": "text"
      },
      "source": [
        "## Install more resources\n",
        "In __Co-laboratory__ we can use a tool called __pip__ to help us install custom __libraries__ (or __packages__) that we can use in our __notebooks__!  Pip is one of the most famous Python __package managers__.  Let's try it out!  We're going to download the open-source library called \"ansicolors\"."
      ]
    },
    {
      "cell_type": "markdown",
      "metadata": {
        "id": "S9OPRcb0OxLO",
        "colab_type": "text"
      },
      "source": [
        "# Printing with Color"
      ]
    },
    {
      "cell_type": "code",
      "metadata": {
        "id": "eI_ZUjZc7pHD",
        "colab_type": "code",
        "outputId": "cff1559d-a0d5-4c0f-bd7f-4a07c571fcc6",
        "colab": {
          "base_uri": "https://localhost:8080/",
          "height": 107
        }
      },
      "source": [
        "# install the library called \"ansicolors\" with package-manager pip\n",
        "!pip install ansicolors"
      ],
      "execution_count": 8,
      "outputs": [
        {
          "output_type": "stream",
          "text": [
            "Collecting ansicolors\n",
            "  Downloading https://files.pythonhosted.org/packages/53/18/a56e2fe47b259bb52201093a3a9d4a32014f9d85071ad07e9d60600890ca/ansicolors-1.1.8-py2.py3-none-any.whl\n",
            "Installing collected packages: ansicolors\n",
            "Successfully installed ansicolors-1.1.8\n"
          ],
          "name": "stdout"
        }
      ]
    },
    {
      "cell_type": "markdown",
      "metadata": {
        "id": "vQaMj6voOEUA",
        "colab_type": "text"
      },
      "source": [
        "Now we can use the function __*color*__ from the __colors__ module to add some flair to our __program__.\n"
      ]
    },
    {
      "cell_type": "code",
      "metadata": {
        "id": "pnbyoFXa76xU",
        "colab_type": "code",
        "outputId": "6e5a5500-8b81-45d1-8a36-50d50607ce21",
        "colab": {
          "base_uri": "https://localhost:8080/",
          "height": 52
        }
      },
      "source": [
        "from colors import color\n",
        "\n",
        "# print two strings in different colors\n",
        "print(color('hello', 'red'), color('world', '#e67e22'))\n",
        "\n",
        "# print a new, longer string\n",
        "print(color('hello orange world', 'orange'))"
      ],
      "execution_count": 9,
      "outputs": [
        {
          "output_type": "stream",
          "text": [
            "\u001b[31mhello\u001b[0m \u001b[38;2;230;126;34mworld\u001b[0m\n",
            "\u001b[38;2;255;165;0mhello orange world\u001b[0m\n"
          ],
          "name": "stdout"
        }
      ]
    },
    {
      "cell_type": "code",
      "metadata": {
        "id": "pjrlykI37h8R",
        "colab_type": "code",
        "outputId": "d9e1f55c-bd9b-4b7f-e9ea-b1e1b1b4c3b9",
        "colab": {
          "base_uri": "https://localhost:8080/",
          "height": 34
        }
      },
      "source": [
        "x = color('girl scouts', '#e67e22')\n",
        "print('\\t' + x)"
      ],
      "execution_count": 10,
      "outputs": [
        {
          "output_type": "stream",
          "text": [
            "\t\u001b[38;2;230;126;34mgirl scouts\u001b[0m\n"
          ],
          "name": "stdout"
        }
      ]
    },
    {
      "cell_type": "markdown",
      "metadata": {
        "id": "yI7vfjvf47rG",
        "colab_type": "text"
      },
      "source": [
        "# Printing with Emoji  &#x1f389;\n",
        "\n",
        "Click run on the code-block below to download a bunch of foods emoji to use in your code!"
      ]
    },
    {
      "cell_type": "code",
      "metadata": {
        "id": "U7XWJ92JlTYr",
        "colab_type": "code",
        "outputId": "1b14e459-1e48-495d-d06a-9d7637288201",
        "colab": {
          "base_uri": "https://localhost:8080/",
          "height": 1000
        }
      },
      "source": [
        "# Python library imports for downloading and reading files in a certain data format\n",
        "import json\n",
        "import requests\n",
        "\n",
        "# define function to read emoji file and return a variable with the food info\n",
        "def load_emoji_foods():\n",
        "  json_file_url = 'https://github.com/akacarlyann/girlscouts/blob/master/food_emoji.json?raw=true'\n",
        "  return json.loads(requests.get(json_file_url).content)\n",
        "\n",
        "# store the foods emojis in a dicionary\n",
        "foods = load_emoji_foods()\n",
        "\n",
        "# print the food key and emoji values\n",
        "for k,v in foods.items():\n",
        "  print(repr(k), str(v))"
      ],
      "execution_count": 11,
      "outputs": [
        {
          "output_type": "stream",
          "text": [
            "'herb' 🌿\n",
            "'grapes' 🍇\n",
            "'watermelon' 🍉\n",
            "'tangerine' 🍊\n",
            "'lemon' 🍋\n",
            "'banana' 🍌\n",
            "'pineapple' 🍍\n",
            "'red apple' 🍎\n",
            "'green apple' 🍏\n",
            "'pear' 🍐\n",
            "'peach' 🍑\n",
            "'cherries' 🍒\n",
            "'strawberry' 🍓\n",
            "'kiwi fruit' 🥝\n",
            "'tomato' 🍅\n",
            "'avocado' 🥑\n",
            "'eggplant' 🍆\n",
            "'potato' 🥔\n",
            "'carrot' 🥕\n",
            "'ear of corn' 🌽\n",
            "'hot pepper' 🌶\n",
            "'mushroom' 🍄\n",
            "'peanuts' 🥜\n",
            "'chestnut' 🌰\n",
            "'bread' 🍞\n",
            "'croissant' 🥐\n",
            "'baguette bread' 🥖\n",
            "'pancakes' 🥞\n",
            "'cheese wedge' 🧀\n",
            "'meat on bone' 🍖\n",
            "'poultry leg' 🍗\n",
            "'bacon' 🥓\n",
            "'hamburger' 🍔\n",
            "'french fries' 🍟\n",
            "'pizza' 🍕\n",
            "'hot dog' 🌭\n",
            "'taco' 🌮\n",
            "'burrito' 🌯\n",
            "'stuffed flatbread' 🥙\n",
            "'egg' 🥚\n",
            "'cooking' 🍳\n",
            "'shallow pan of food' 🥘\n",
            "'pot of food' 🍲\n",
            "'green salad' 🥗\n",
            "'popcorn' 🍿\n",
            "'bento box' 🍱\n",
            "'rice cracker' 🍘\n",
            "'rice ball' 🍙\n",
            "'cooked rice' 🍚\n",
            "'curry rice' 🍛\n",
            "'steaming bowl' 🍜\n",
            "'spaghetti' 🍝\n",
            "'roasted sweet potato' 🍠\n",
            "'oden' 🍢\n",
            "'sushi' 🍣\n",
            "'fried shrimp' 🍤\n",
            "'fish cake with swirl' 🍥\n",
            "'dango' 🍡\n",
            "'shaved ice' 🍧\n",
            "'ice cream' 🍨\n",
            "'doughnut' 🍩\n",
            "'cookie' 🍪\n",
            "'birthday cake' 🎂\n",
            "'shortcake' 🍰\n",
            "'chocolate bar' 🍫\n",
            "'candy' 🍬\n",
            "'lollipop' 🍭\n",
            "'custard' 🍮\n",
            "'honey pot' 🍯\n",
            "'baby bottle' 🍼\n",
            "'glass of milk' 🥛\n"
          ],
          "name": "stdout"
        }
      ]
    },
    {
      "cell_type": "markdown",
      "metadata": {
        "id": "cO-m8nNvy5lH",
        "colab_type": "text"
      },
      "source": [
        "## Accessing Emoji from the dictionary\n",
        "\n",
        "A __dictionary__ is a Python way to store information with a lookup key for each value.  In the printed list above, the keys are on the left side.  To get a value for a particular key, use the syntax:\n",
        "\n",
        "```\n",
        "foods['pizza']\n",
        "```\n",
        "\n",
        "The emoji is a special character encoded in a way that the computer can understand.  We can treat it just like a regular __string__ when we are printing.  Let's try it out!"
      ]
    },
    {
      "cell_type": "code",
      "metadata": {
        "id": "ZUH4oKMPzlIF",
        "colab_type": "code",
        "outputId": "91815c89-9aa9-4b2a-dbb1-ac853d1e9627",
        "colab": {
          "base_uri": "https://localhost:8080/",
          "height": 34
        }
      },
      "source": [
        "print(foods['pizza'])"
      ],
      "execution_count": 12,
      "outputs": [
        {
          "output_type": "stream",
          "text": [
            "🍕\n"
          ],
          "name": "stdout"
        }
      ]
    },
    {
      "cell_type": "markdown",
      "metadata": {
        "id": "fDRx-RMdJ1L0",
        "colab_type": "text"
      },
      "source": [
        "### Some cool libraries to play around with\n",
        "https://pypi.python.org/pypi/ipyturtle/0.2.0\n",
        "\n",
        "### Tutorials and additional resources\n",
        "https://www.thinkful.com/learn/intro-to-python-tutorial/  \n",
        "https://hq.girlswhocode.com/project-gallery\n",
        "https://djangogirls.org/  \n",
        "http://www.pyladies.com/  \n",
        "https://www.codecademy.com/"
      ]
    },
    {
      "cell_type": "markdown",
      "metadata": {
        "id": "Eapi2fVmO1mr",
        "colab_type": "text"
      },
      "source": [
        "# Reflection"
      ]
    },
    {
      "cell_type": "markdown",
      "metadata": {
        "id": "X1pZL6wYO5oG",
        "colab_type": "text"
      },
      "source": [
        " - What was difficult/challenging about this activity?\n",
        " - What did you learn?\n",
        " - What was easy about this?\n",
        " - How can you apply what you learned in your real-life or at school?\n",
        " - What would you do differently?"
      ]
    }
  ]
}